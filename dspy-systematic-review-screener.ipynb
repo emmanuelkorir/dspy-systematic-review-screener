{
  "cells": [
    {
      "cell_type": "code",
      "execution_count": null,
      "metadata": {
        "colab": {
          "base_uri": "https://localhost:8080/"
        },
        "collapsed": true,
        "id": "-br1WJDOMwdr",
        "outputId": "33b5fb73-a03d-41a9-d138-bd78f6180ad5"
      },
      "outputs": [],
      "source": [
        "!pip install google-genai pandas dspy litellm"
      ]
    },
    {
      "cell_type": "markdown",
      "metadata": {
        "id": "xvU1QS5_PEkO"
      },
      "source": [
        "Import libraries and configure DSPy for LiteLLM"
      ]
    },
    {
      "cell_type": "code",
      "execution_count": null,
      "metadata": {
        "id": "YVFgOO-aPLQV"
      },
      "outputs": [],
      "source": [
        "import dspy\n",
        "import pandas as pd\n",
        "import os\n",
        "from collections import Counter\n",
        "import io\n",
        "from google.colab import userdata\n",
        "import litellm\n",
        "import time"
      ]
    },
    {
      "cell_type": "markdown",
      "metadata": {
        "id": "ZcG8bpIwPgTX"
      },
      "source": [
        "Fetch the secret and set it as an environment variable"
      ]
    },
    {
      "cell_type": "code",
      "execution_count": null,
      "metadata": {
        "colab": {
          "base_uri": "https://localhost:8080/"
        },
        "id": "aCwMLb63PrDK",
        "outputId": "ee7d1b42-9c98-44b0-f482-cf5533e5070d"
      },
      "outputs": [],
      "source": [
        "try:\n",
        "    google_api_key = userdata.get('GEMINI_API_KEY')\n",
        "    os.environ[\"GOOGLE_API_KEY\"] = google_api_key\n",
        "    MODEL_TO_USE = 'gemini/gemini-2.5-flash-lite-preview-06-17'\n",
        "    print(\" Configured to use Google Gemini via LiteLLM.\")\n",
        "except:\n",
        "    print(\"Could not find GOOGLE_API_KEY. Trying other providers...\")"
      ]
    },
    {
      "cell_type": "markdown",
      "metadata": {
        "id": "Z86VEGg3Rdrb"
      },
      "source": [
        "Configure DSPy to use the LiteLLM client"
      ]
    },
    {
      "cell_type": "code",
      "execution_count": null,
      "metadata": {
        "colab": {
          "base_uri": "https://localhost:8080/"
        },
        "id": "WCXyW_4rRfB-",
        "outputId": "178c739a-eb25-40a5-89e3-cf116ee0b86d"
      },
      "outputs": [],
      "source": [
        "lm = dspy.LM(MODEL_TO_USE, api_key=google_api_key)\n",
        "dspy.configure(lm=lm)\n",
        "lm(\"which model are you?\", temperature=0.7)\n",
        "print(f\"✅ DSPy configured successfully with LiteLLM using model: {MODEL_TO_USE}\")"
      ]
    },
    {
      "cell_type": "markdown",
      "metadata": {
        "id": "WY17utFRdYyA"
      },
      "source": [
        "Rate Limit Configuration\n",
        " - Gemini's free tier can have a 10 RPM (Requests Per Minute) limit"
      ]
    },
    {
      "cell_type": "code",
      "execution_count": null,
      "metadata": {
        "colab": {
          "base_uri": "https://localhost:8080/"
        },
        "id": "A9JJOWnndi-Y",
        "outputId": "81d4bed7-059c-4e14-f84c-7d890fe1cdcc"
      },
      "outputs": [],
      "source": [
        "RPM_LIMIT = 10\n",
        "RATE_LIMIT_DELAY = 60 / RPM_LIMIT  # This calculates to 6 seconds per request\n",
        "print(f\"Rate limit set to {RPM_LIMIT} RPM. A delay of {RATE_LIMIT_DELAY:.1f} seconds will be added after each API call.\")"
      ]
    },
    {
      "cell_type": "markdown",
      "metadata": {
        "id": "ftdEcwnCUozn"
      },
      "source": [
        "Upload your CSV file"
      ]
    },
    {
      "cell_type": "code",
      "execution_count": null,
      "metadata": {
        "colab": {
          "base_uri": "https://localhost:8080/",
          "height": 142
        },
        "id": "tkwkDFMlUrCp",
        "outputId": "e061774d-45e9-48fc-f4cf-7480d7421f9d"
      },
      "outputs": [],
      "source": [
        "from google.colab import files\n",
        "print(\"\\nPlease upload your articles CSV file:\")\n",
        "uploaded = files.upload()\n",
        "file_name = next(iter(uploaded))\n",
        "print(f\"\\n✅ File '{file_name}' uploaded successfully.\")"
      ]
    },
    {
      "cell_type": "markdown",
      "metadata": {
        "id": "g8-Z4MlzVTGi"
      },
      "source": [
        "Load and prepare your data"
      ]
    },
    {
      "cell_type": "code",
      "execution_count": null,
      "metadata": {
        "colab": {
          "base_uri": "https://localhost:8080/"
        },
        "id": "_G8w9eCNVXSN",
        "outputId": "5714e585-b306-47aa-9209-102135bddfe7"
      },
      "outputs": [],
      "source": [
        "df_articles = pd.read_csv(io.BytesIO(uploaded[file_name]))\n",
        "articles = [\n",
        "    dspy.Example(\n",
        "        article_title=row['title'],\n",
        "        article_abstract=row['abstract']\n",
        "    ).with_inputs('article_title', 'article_abstract')\n",
        "    for index, row in df_articles.iterrows()\n",
        "]\n",
        "print(f\"Loaded {len(articles)} articles to be screened.\")"
      ]
    },
    {
      "cell_type": "markdown",
      "metadata": {
        "id": "W-34zHxlVfgG"
      },
      "source": [
        "Define your inclusion criteria\n",
        "\n",
        "\n"
      ]
    },
    {
      "cell_type": "code",
      "execution_count": null,
      "metadata": {
        "id": "0ZMyy0_BVigl"
      },
      "outputs": [],
      "source": [
        "inclusion_criteria =\"\"\"\n",
        "I am screening for a systematic review and meta-analysis on aortic valve replacement.\n",
        "Please adhere strictly to the following criteria based on the study protocol.\n",
        "\n",
        "**PICO Framework:**\n",
        "*   **Population:** Adult patients with severe aortic stenosis classified as being at **LOW SURGICAL RISK** (e.g., STS score < 4%).\n",
        "*   **Intervention:** Transcatheter Aortic Valve Replacement (TAVR or TAVI).\n",
        "*   **Comparator:** Surgical Aortic Valve Replacement (SAVR). The study MUST be a direct comparison between TAVR and SAVR.\n",
        "*   **Outcomes:** Must report on long-term (>=1 year) clinical outcomes such as mortality, stroke, reintervention, or MACCE.\n",
        "\n",
        "**Inclusion Criteria:**\n",
        "1.  **Study Design:** Must be a **Randomized Controlled Trial (RCT)**.\n",
        "2.  **Population:** Must explicitly state that the patient cohort is **low-risk**.\n",
        "3.  **Comparison:** Must compare TAVR directly against SAVR.\n",
        "\"\"\""
      ]
    },
    {
      "cell_type": "markdown",
      "metadata": {
        "id": "aNLaaZK6V-aV"
      },
      "source": [
        "Define your exclusion criteria"
      ]
    },
    {
      "cell_type": "code",
      "execution_count": null,
      "metadata": {
        "id": "Ogdi2SlpWCgZ"
      },
      "outputs": [],
      "source": [
        "exclusion_criteria = \"\"\"\n",
        "1.  **Wrong Study Design:** Exclude ALL non-RCTs. This includes observational studies, cohort studies, registry analyses, case series, case reports, editorials, letters, and especially **systematic reviews or meta-analyses**.\n",
        "2.  **Wrong Population:** Exclude studies focused on intermediate-risk or high-risk patients. Exclude pediatric studies or studies on conditions other than aortic stenosis.\n",
        "3.  **Wrong Comparison:** Exclude studies that do not compare TAVR vs. SAVR (e.g., TAVR only, SAVR only, TAVR vs. medical therapy, comparisons between different TAVR devices).\n",
        "4.  **Wrong Outcomes:** Exclude studies that only report on procedural details, imaging, or economic analyses without clinical outcomes.\n",
        "5.  **Animal studies.**\n",
        "6. **Non-English studies.**\n",
        "\"\"\""
      ]
    },
    {
      "cell_type": "markdown",
      "metadata": {
        "id": "GwDSduATWXB_"
      },
      "source": [
        "Training Examples to Match your Protocol"
      ]
    },
    {
      "cell_type": "code",
      "execution_count": null,
      "metadata": {
        "id": "etVswjlGWXw7"
      },
      "outputs": [],
      "source": [
        "train_examples = [\n",
        "    dspy.Example(\n",
        "        article_title=\"Transcatheter versus Surgical Aortic Valve Replacement in Low-Risk Patients with Severe Aortic Stenosis: A Randomized Clinical Trial\",\n",
        "        article_abstract=\"This randomized controlled trial was conducted to compare the outcomes of transcatheter aortic valve replacement (TAVR) with those of surgical aortic valve replacement (SAVR) using tissue valves. We enrolled 1000 low-risk adult patients with severe, symptomatic aortic stenosis, defined by an STS-PROM score below 4%. The primary endpoint was a composite of mortality and stroke at 2 years.\",\n",
        "        inclusion_criteria=inclusion_criteria,\n",
        "        exclusion_criteria=exclusion_criteria,\n",
        "        reasoning=\"1. Study Design: The abstract clearly states it is a 'randomized controlled trial', meeting inclusion criterion 1. 2. Population: The abstract specifies 'low-risk adult patients with severe, symptomatic aortic stenosis' and an STS score below 4%, meeting inclusion criterion 2. 3. Intervention: The study evaluates TAVR, meeting inclusion criterion 3. 4. Comparator: The study compares TAVR against SAVR with 'tissue valves', meeting inclusion criterion 4. No exclusion criteria apply. This article must be included.\",\n",
        "        decision=\"Include\"\n",
        "    ).with_inputs('article_title', 'article_abstract'),\n",
        "\n",
        "    dspy.Example(\n",
        "        article_title=\"A Meta-Analysis of Long-Term Outcomes After Transcatheter Aortic Valve Replacement\",\n",
        "        article_abstract=\"We performed a comprehensive systematic review and meta-analysis to synthesize the available evidence on TAVR outcomes. Data from 30 studies, including both randomized trials and observational cohorts, were pooled to assess long-term mortality.\",\n",
        "        inclusion_criteria=inclusion_criteria,\n",
        "        exclusion_criteria=exclusion_criteria,\n",
        "        reasoning=\"1. Study Design: The title and abstract explicitly identify the study as a 'meta-analysis' and 'systematic review'. This meets exclusion criterion 1. Therefore, the article must be excluded.\",\n",
        "        decision=\"Exclude\"\n",
        "    ).with_inputs('article_title', 'article_abstract'),\n",
        "\n",
        "    dspy.Example(\n",
        "        article_title=\"Outcomes of TAVR in High-Risk and Inoperable Patients with Aortic Stenosis\",\n",
        "        article_abstract=\"This prospective cohort study followed 500 patients with severe aortic stenosis deemed to be at high-risk or inoperable for traditional surgery. All patients received TAVR and were followed for 5 years to assess survival and quality of life. There was no surgical comparison arm.\",\n",
        "        inclusion_criteria=inclusion_criteria,\n",
        "        exclusion_criteria=exclusion_criteria,\n",
        "        reasoning=\"1. Study Design: The abstract describes this as a 'prospective cohort study', which meets exclusion criterion 1. 2. Population: The study focuses on 'high-risk and inoperable patients', which meets exclusion criterion 2. 3. Comparator: The study is single-arm with 'no surgical comparison arm', which meets exclusion criterion 3. The article must be excluded for multiple reasons.\",\n",
        "        decision=\"Exclude\"\n",
        "    ).with_inputs('article_title', 'article_abstract')\n",
        "]"
      ]
    },
    {
      "cell_type": "markdown",
      "metadata": {
        "id": "8OHahKwkXu7y"
      },
      "source": [
        "Define and Compile the DSPy Program"
      ]
    },
    {
      "cell_type": "code",
      "execution_count": null,
      "metadata": {
        "colab": {
          "base_uri": "https://localhost:8080/"
        },
        "id": "05eoS38lX2Zm",
        "outputId": "81d301ae-d2b8-40a9-f8af-7a80ac13c132"
      },
      "outputs": [],
      "source": [
        "class ScreeningSignature(dspy.Signature):\n",
        "    \"\"\"\n",
        "    Screens a research article based on title and abstract against inclusion and exclusion criteria for a systematic review comparing TAVR and SAVR.\n",
        "    Decides whether to 'Include' or 'Exclude' the article.\n",
        "    \"\"\"\n",
        "\n",
        "    article_title = dspy.InputField(desc=\"The title of the research article.\")\n",
        "    article_abstract = dspy.InputField(desc=\"The abstract of the research article.\")\n",
        "    inclusion_criteria = dspy.InputField(desc=\"Criteria that must be met for inclusion.\")\n",
        "    exclusion_criteria = dspy.InputField(desc=\"Criteria that, if met, will lead to exclusion.\")\n",
        "    reasoning = dspy.OutputField(desc=\"A step-by-step analysis of the article against each criterion. Conclude with the final decision's justification.\")\n",
        "    decision = dspy.OutputField(desc=\"The final verdict, which must be exactly 'Include' or 'Exclude'.\")\n",
        "\n",
        "class ArticleScreener(dspy.Module):\n",
        "    def __init__(self):\n",
        "        super().__init__()\n",
        "        self.screener = dspy.ChainOfThought(ScreeningSignature)\n",
        "\n",
        "    def forward(self, article_title, article_abstract):\n",
        "        return self.screener(\n",
        "            article_title=article_title,\n",
        "            article_abstract=article_abstract,\n",
        "            inclusion_criteria=inclusion_criteria,\n",
        "            exclusion_criteria=exclusion_criteria\n",
        "        )\n",
        "\n",
        "from dspy.teleprompt import BootstrapFewShot\n",
        "teleprompter = BootstrapFewShot(metric=None, max_bootstrapped_demos=3)\n",
        "compiled_screener = teleprompter.compile(ArticleScreener(), trainset=train_examples)\n",
        "print(\"\\n--- Program Compiled. Ready for Screening --- \\n\")"
      ]
    },
    {
      "cell_type": "markdown",
      "metadata": {
        "id": "4s9YxrREb61N"
      },
      "source": [
        "Run the Screening and Save Results"
      ]
    },
    {
      "cell_type": "code",
      "execution_count": null,
      "metadata": {
        "colab": {
          "base_uri": "https://localhost:8080/",
          "height": 6479,
          "referenced_widgets": [
            "6aee31d732404aad94da05f0d077d7f1",
            "56d9f7c03c8343deb1471d6b3e5325fa",
            "75101f1c5ffa4215ab6d507242320927",
            "c0ddf687df72476c8bcebbd3900dc4c4",
            "0f49e7378c97428392da8184e94c5e93",
            "f397cd1d61d3430eb72db82905a65b5f",
            "706750fcd464487eb8a09b1fc9616203",
            "029efee73ea5451d9bb63a776d18d550",
            "7eb99b32fe6d4e9fb9d9c1628b033896",
            "96a049b607614fbd973e42ee0279d39d",
            "92f2a2c16bd841f9a6a93ca170597f85"
          ]
        },
        "id": "zgreneEZb7om",
        "outputId": "04e35a92-c2a8-4858-e96a-094681532106"
      },
      "outputs": [],
      "source": [
        "NUMBER_OF_VOTERS = 3\n",
        "results = []\n",
        "from tqdm.auto import tqdm\n",
        "\n",
        "for article in tqdm(articles, desc=f\"Screening Articles with LiteLLM ({MODEL_TO_USE})\"):\n",
        "    votes, reasons = [], []\n",
        "    for i in range(NUMBER_OF_VOTERS):\n",
        "        try:\n",
        "            # Each call to the screener is one API request\n",
        "            prediction = compiled_screener(article.article_title, article.article_abstract)\n",
        "\n",
        "            decision = \"Include\" if \"include\" in prediction.decision.lower() else \"Exclude\"\n",
        "            votes.append(decision)\n",
        "            reasons.append(prediction.reasoning)\n",
        "\n",
        "        except Exception as e:\n",
        "            print(f\"Error screening article '{article.article_title}' (Voter {i+1}): {e}\")\n",
        "            votes.append(\"Error\")\n",
        "            reasons.append(f\"Failed due to error: {e}\")\n",
        "\n",
        "        # --- THIS IS THE RATE LIMITING LOGIC ---\n",
        "        # Pause after every request to stay under the RPM limit.\n",
        "        time.sleep(RATE_LIMIT_DELAY)\n",
        "\n",
        "    vote_counts = Counter(votes)\n",
        "    include_votes = vote_counts.get(\"Include\", 0)\n",
        "    final_decision = \"Include\" if include_votes > (NUMBER_OF_VOTERS / 2) else \"Exclude\"\n",
        "\n",
        "    results.append({\n",
        "        'title': article.article_title,\n",
        "        'abstract': article.article_abstract,\n",
        "        'final_decision': final_decision,\n",
        "        'include_percentage': f\"{(include_votes / NUMBER_OF_VOTERS) * 100:.2f}%\",\n",
        "        'include_votes': include_votes,\n",
        "        'exclude_votes': vote_counts.get(\"Exclude\", 0),\n",
        "        'error_votes': vote_counts.get(\"Error\", 0),\n",
        "        'all_reasons': \" | \".join([f\"Voter {_ + 1}: {r}\" for _, r in enumerate(reasons)])\n",
        "    })\n",
        "\n",
        "# --- Save and display results (unchanged) ---\n",
        "df_results = pd.DataFrame(results)\n",
        "df_results = df_results.sort_values(by='include_votes', ascending=False)\n",
        "from IPython.display import display\n",
        "print(\"\\n--- Screening Complete. Results: ---\")\n",
        "display(df_results[['title', 'final_decision', 'include_percentage', 'include_votes']])\n",
        "output_filename = 'screening_results.csv'\n",
        "df_results.to_csv(output_filename, index=False)\n",
        "print(f\"\\n✅ Results saved to '{output_filename}'.\")"
      ]
    },
    {
      "cell_type": "markdown",
      "metadata": {
        "id": "h-mMCarnmp0V"
      },
      "source": [
        "Create a table using the csv generated"
      ]
    },
    {
      "cell_type": "code",
      "execution_count": null,
      "metadata": {
        "colab": {
          "base_uri": "https://localhost:8080/",
          "height": 3042
        },
        "id": "KcUG3iQ5mtnx",
        "outputId": "60f950ea-8c28-45ac-ebea-e3bb50613d0f"
      },
      "outputs": [],
      "source": [
        "# Create a table using the csv generated\n",
        "from google.colab import data_table\n",
        "\n",
        "# Load the results from the CSV file back into a DataFrame\n",
        "df_results_from_csv = pd.read_csv(output_filename)\n",
        "\n",
        "# Display the DataFrame as an interactive data table\n",
        "print(\"\\n--- Interactive Screening Results Table ---\")\n",
        "data_table.enable_dataframe_formatter() # Ensure the formatter is enabled\n",
        "display_columns = [\n",
        "    'title',\n",
        "    'final_decision',\n",
        "    'include_percentage',\n",
        "    'include_votes',\n",
        "    'exclude_votes',\n",
        "    'error_votes'\n",
        "    # Exclude 'abstract' and 'all_reasons' which can be very long\n",
        "]\n",
        "existing_display_columns = [col for col in display_columns if col in df_results_from_csv.columns]\n",
        "\n",
        "if not existing_display_columns:\n",
        "    print(\"Warning: None of the selected display columns were found in the DataFrame. Displaying all columns.\")\n",
        "    display(df_results_from_csv)\n",
        "else:\n",
        "    display(df_results_from_csv[existing_display_columns])\n",
        "\n",
        "print(\"--- Interactive Screening Results Table Displayed ---\")\n"
      ]
    }
  ],
  "metadata": {
    "colab": {
      "provenance": []
    },
    "kernelspec": {
      "display_name": "Python 3",
      "name": "python3"
    },
    "language_info": {
      "name": "python"
    },
    "widgets": {
      "application/vnd.jupyter.widget-state+json": {
        "029efee73ea5451d9bb63a776d18d550": {
          "model_module": "@jupyter-widgets/base",
          "model_module_version": "1.2.0",
          "model_name": "LayoutModel",
          "state": {
            "_model_module": "@jupyter-widgets/base",
            "_model_module_version": "1.2.0",
            "_model_name": "LayoutModel",
            "_view_count": null,
            "_view_module": "@jupyter-widgets/base",
            "_view_module_version": "1.2.0",
            "_view_name": "LayoutView",
            "align_content": null,
            "align_items": null,
            "align_self": null,
            "border": null,
            "bottom": null,
            "display": null,
            "flex": null,
            "flex_flow": null,
            "grid_area": null,
            "grid_auto_columns": null,
            "grid_auto_flow": null,
            "grid_auto_rows": null,
            "grid_column": null,
            "grid_gap": null,
            "grid_row": null,
            "grid_template_areas": null,
            "grid_template_columns": null,
            "grid_template_rows": null,
            "height": null,
            "justify_content": null,
            "justify_items": null,
            "left": null,
            "margin": null,
            "max_height": null,
            "max_width": null,
            "min_height": null,
            "min_width": null,
            "object_fit": null,
            "object_position": null,
            "order": null,
            "overflow": null,
            "overflow_x": null,
            "overflow_y": null,
            "padding": null,
            "right": null,
            "top": null,
            "visibility": null,
            "width": null
          }
        },
        "0f49e7378c97428392da8184e94c5e93": {
          "model_module": "@jupyter-widgets/base",
          "model_module_version": "1.2.0",
          "model_name": "LayoutModel",
          "state": {
            "_model_module": "@jupyter-widgets/base",
            "_model_module_version": "1.2.0",
            "_model_name": "LayoutModel",
            "_view_count": null,
            "_view_module": "@jupyter-widgets/base",
            "_view_module_version": "1.2.0",
            "_view_name": "LayoutView",
            "align_content": null,
            "align_items": null,
            "align_self": null,
            "border": null,
            "bottom": null,
            "display": null,
            "flex": null,
            "flex_flow": null,
            "grid_area": null,
            "grid_auto_columns": null,
            "grid_auto_flow": null,
            "grid_auto_rows": null,
            "grid_column": null,
            "grid_gap": null,
            "grid_row": null,
            "grid_template_areas": null,
            "grid_template_columns": null,
            "grid_template_rows": null,
            "height": null,
            "justify_content": null,
            "justify_items": null,
            "left": null,
            "margin": null,
            "max_height": null,
            "max_width": null,
            "min_height": null,
            "min_width": null,
            "object_fit": null,
            "object_position": null,
            "order": null,
            "overflow": null,
            "overflow_x": null,
            "overflow_y": null,
            "padding": null,
            "right": null,
            "top": null,
            "visibility": null,
            "width": null
          }
        },
        "56d9f7c03c8343deb1471d6b3e5325fa": {
          "model_module": "@jupyter-widgets/controls",
          "model_module_version": "1.5.0",
          "model_name": "HTMLModel",
          "state": {
            "_dom_classes": [],
            "_model_module": "@jupyter-widgets/controls",
            "_model_module_version": "1.5.0",
            "_model_name": "HTMLModel",
            "_view_count": null,
            "_view_module": "@jupyter-widgets/controls",
            "_view_module_version": "1.5.0",
            "_view_name": "HTMLView",
            "description": "",
            "description_tooltip": null,
            "layout": "IPY_MODEL_f397cd1d61d3430eb72db82905a65b5f",
            "placeholder": "​",
            "style": "IPY_MODEL_706750fcd464487eb8a09b1fc9616203",
            "value": "Screening Articles with LiteLLM (gemini/gemini-2.5-flash-lite-preview-06-17): 100%"
          }
        },
        "6aee31d732404aad94da05f0d077d7f1": {
          "model_module": "@jupyter-widgets/controls",
          "model_module_version": "1.5.0",
          "model_name": "HBoxModel",
          "state": {
            "_dom_classes": [],
            "_model_module": "@jupyter-widgets/controls",
            "_model_module_version": "1.5.0",
            "_model_name": "HBoxModel",
            "_view_count": null,
            "_view_module": "@jupyter-widgets/controls",
            "_view_module_version": "1.5.0",
            "_view_name": "HBoxView",
            "box_style": "",
            "children": [
              "IPY_MODEL_56d9f7c03c8343deb1471d6b3e5325fa",
              "IPY_MODEL_75101f1c5ffa4215ab6d507242320927",
              "IPY_MODEL_c0ddf687df72476c8bcebbd3900dc4c4"
            ],
            "layout": "IPY_MODEL_0f49e7378c97428392da8184e94c5e93"
          }
        },
        "706750fcd464487eb8a09b1fc9616203": {
          "model_module": "@jupyter-widgets/controls",
          "model_module_version": "1.5.0",
          "model_name": "DescriptionStyleModel",
          "state": {
            "_model_module": "@jupyter-widgets/controls",
            "_model_module_version": "1.5.0",
            "_model_name": "DescriptionStyleModel",
            "_view_count": null,
            "_view_module": "@jupyter-widgets/base",
            "_view_module_version": "1.2.0",
            "_view_name": "StyleView",
            "description_width": ""
          }
        },
        "75101f1c5ffa4215ab6d507242320927": {
          "model_module": "@jupyter-widgets/controls",
          "model_module_version": "1.5.0",
          "model_name": "FloatProgressModel",
          "state": {
            "_dom_classes": [],
            "_model_module": "@jupyter-widgets/controls",
            "_model_module_version": "1.5.0",
            "_model_name": "FloatProgressModel",
            "_view_count": null,
            "_view_module": "@jupyter-widgets/controls",
            "_view_module_version": "1.5.0",
            "_view_name": "ProgressView",
            "bar_style": "success",
            "description": "",
            "description_tooltip": null,
            "layout": "IPY_MODEL_029efee73ea5451d9bb63a776d18d550",
            "max": 89,
            "min": 0,
            "orientation": "horizontal",
            "style": "IPY_MODEL_7eb99b32fe6d4e9fb9d9c1628b033896",
            "value": 89
          }
        },
        "7eb99b32fe6d4e9fb9d9c1628b033896": {
          "model_module": "@jupyter-widgets/controls",
          "model_module_version": "1.5.0",
          "model_name": "ProgressStyleModel",
          "state": {
            "_model_module": "@jupyter-widgets/controls",
            "_model_module_version": "1.5.0",
            "_model_name": "ProgressStyleModel",
            "_view_count": null,
            "_view_module": "@jupyter-widgets/base",
            "_view_module_version": "1.2.0",
            "_view_name": "StyleView",
            "bar_color": null,
            "description_width": ""
          }
        },
        "92f2a2c16bd841f9a6a93ca170597f85": {
          "model_module": "@jupyter-widgets/controls",
          "model_module_version": "1.5.0",
          "model_name": "DescriptionStyleModel",
          "state": {
            "_model_module": "@jupyter-widgets/controls",
            "_model_module_version": "1.5.0",
            "_model_name": "DescriptionStyleModel",
            "_view_count": null,
            "_view_module": "@jupyter-widgets/base",
            "_view_module_version": "1.2.0",
            "_view_name": "StyleView",
            "description_width": ""
          }
        },
        "96a049b607614fbd973e42ee0279d39d": {
          "model_module": "@jupyter-widgets/base",
          "model_module_version": "1.2.0",
          "model_name": "LayoutModel",
          "state": {
            "_model_module": "@jupyter-widgets/base",
            "_model_module_version": "1.2.0",
            "_model_name": "LayoutModel",
            "_view_count": null,
            "_view_module": "@jupyter-widgets/base",
            "_view_module_version": "1.2.0",
            "_view_name": "LayoutView",
            "align_content": null,
            "align_items": null,
            "align_self": null,
            "border": null,
            "bottom": null,
            "display": null,
            "flex": null,
            "flex_flow": null,
            "grid_area": null,
            "grid_auto_columns": null,
            "grid_auto_flow": null,
            "grid_auto_rows": null,
            "grid_column": null,
            "grid_gap": null,
            "grid_row": null,
            "grid_template_areas": null,
            "grid_template_columns": null,
            "grid_template_rows": null,
            "height": null,
            "justify_content": null,
            "justify_items": null,
            "left": null,
            "margin": null,
            "max_height": null,
            "max_width": null,
            "min_height": null,
            "min_width": null,
            "object_fit": null,
            "object_position": null,
            "order": null,
            "overflow": null,
            "overflow_x": null,
            "overflow_y": null,
            "padding": null,
            "right": null,
            "top": null,
            "visibility": null,
            "width": null
          }
        },
        "c0ddf687df72476c8bcebbd3900dc4c4": {
          "model_module": "@jupyter-widgets/controls",
          "model_module_version": "1.5.0",
          "model_name": "HTMLModel",
          "state": {
            "_dom_classes": [],
            "_model_module": "@jupyter-widgets/controls",
            "_model_module_version": "1.5.0",
            "_model_name": "HTMLModel",
            "_view_count": null,
            "_view_module": "@jupyter-widgets/controls",
            "_view_module_version": "1.5.0",
            "_view_name": "HTMLView",
            "description": "",
            "description_tooltip": null,
            "layout": "IPY_MODEL_96a049b607614fbd973e42ee0279d39d",
            "placeholder": "​",
            "style": "IPY_MODEL_92f2a2c16bd841f9a6a93ca170597f85",
            "value": " 89/89 [27:30&lt;00:00, 18.95s/it]"
          }
        },
        "f397cd1d61d3430eb72db82905a65b5f": {
          "model_module": "@jupyter-widgets/base",
          "model_module_version": "1.2.0",
          "model_name": "LayoutModel",
          "state": {
            "_model_module": "@jupyter-widgets/base",
            "_model_module_version": "1.2.0",
            "_model_name": "LayoutModel",
            "_view_count": null,
            "_view_module": "@jupyter-widgets/base",
            "_view_module_version": "1.2.0",
            "_view_name": "LayoutView",
            "align_content": null,
            "align_items": null,
            "align_self": null,
            "border": null,
            "bottom": null,
            "display": null,
            "flex": null,
            "flex_flow": null,
            "grid_area": null,
            "grid_auto_columns": null,
            "grid_auto_flow": null,
            "grid_auto_rows": null,
            "grid_column": null,
            "grid_gap": null,
            "grid_row": null,
            "grid_template_areas": null,
            "grid_template_columns": null,
            "grid_template_rows": null,
            "height": null,
            "justify_content": null,
            "justify_items": null,
            "left": null,
            "margin": null,
            "max_height": null,
            "max_width": null,
            "min_height": null,
            "min_width": null,
            "object_fit": null,
            "object_position": null,
            "order": null,
            "overflow": null,
            "overflow_x": null,
            "overflow_y": null,
            "padding": null,
            "right": null,
            "top": null,
            "visibility": null,
            "width": null
          }
        }
      }
    }
  },
  "nbformat": 4,
  "nbformat_minor": 0
}
